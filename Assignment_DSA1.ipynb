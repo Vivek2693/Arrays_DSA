{
 "cells": [
  {
   "cell_type": "markdown",
   "id": "0c1ed519-c1c1-457b-8845-eafbae0bce52",
   "metadata": {},
   "source": [
    "<aside>\n",
    "💡 **Q1.** Given an array of integers nums and an integer target, return indices of the two numbers such that they add up to target.\n",
    "\n",
    "You may assume that each input would have exactly one solution, and you may not use the same element twice.\n",
    "\n",
    "You can return the answer in any order.\n",
    "\n",
    "**Example:**\n",
    "Input: nums = [2,7,11,15], target = 9\n",
    "Output0 [0,1]\n",
    "\n",
    "**Explanation:** Because nums[0] + nums[1] == 9, we return [0, 1][\n",
    "\n",
    "</aside>"
   ]
  },
  {
   "cell_type": "code",
   "execution_count": 1,
   "id": "340f9a03-aaa8-43e8-90dd-88b69931ca9a",
   "metadata": {},
   "outputs": [
    {
     "name": "stdout",
     "output_type": "stream",
     "text": [
      "[0, 1]\n"
     ]
    }
   ],
   "source": [
    "def twoSum(nums, target):\n",
    "    # Create a dictionary to store values and their indices\n",
    "    num_dict = {}\n",
    "\n",
    "    # Iterate through the array\n",
    "    for i, num in enumerate(nums):\n",
    "        complement = target - num\n",
    "        # Check if the complement exists in the dictionary\n",
    "        if complement in num_dict:\n",
    "            # Return the indices of the two numbers\n",
    "            return [num_dict[complement], i]\n",
    "        # Add the number and its index to the dictionary\n",
    "        num_dict[num] = i\n",
    "\n",
    "    # If no solution is found, return an empty list or raise an exception\n",
    "    return []\n",
    "\n",
    "# Example usage:\n",
    "nums = [2, 7, 11, 15]\n",
    "target = 9\n",
    "result = twoSum(nums, target)\n",
    "print(result)\n"
   ]
  },
  {
   "cell_type": "markdown",
   "id": "69a62128-f63e-4d3f-ab14-1999f7c070a6",
   "metadata": {},
   "source": [
    "<aside>\n",
    "💡 **Q2.** Given an integer array nums and an integer val, remove all occurrences of val in nums in-place. The order of the elements may be changed. Then return the number of elements in nums which are not equal to val.\n",
    "\n",
    "Consider the number of elements in nums which are not equal to val be k, to get accepted, you need to do the following things:\n",
    "\n",
    "- Change the array nums such that the first k elements of nums contain the elements which are not equal to val. The remaining elements of nums are not important as well as the size of nums.\n",
    "- Return k.\n",
    "\n",
    "**Example :**\n",
    "Input: nums = [3,2,2,3], val = 3\n",
    "Output: 2, nums = [2,2,_*,_*]\n",
    "\n",
    "**Explanation:** Your function should return k = 2, with the first two elements of nums being 2. It does not matter what you leave beyond the returned k (hence they are underscores)[\n",
    "\n",
    "</aside>"
   ]
  },
  {
   "cell_type": "code",
   "execution_count": 2,
   "id": "4695a039-2cf6-47d4-b9fe-765009884b65",
   "metadata": {},
   "outputs": [
    {
     "name": "stdout",
     "output_type": "stream",
     "text": [
      "[0, 1]\n"
     ]
    }
   ],
   "source": [
    "def twoSum(nums, target):\n",
    "    # Create a dictionary to store values and their indices\n",
    "    num_dict = {}\n",
    "\n",
    "    # Iterate through the array\n",
    "    for i, num in enumerate(nums):\n",
    "        complement = target - num\n",
    "        # Check if the complement exists in the dictionary\n",
    "        if complement in num_dict:\n",
    "            # Return the indices of the two numbers\n",
    "            return [num_dict[complement], i]\n",
    "        # Add the number and its index to the dictionary\n",
    "        num_dict[num] = i\n",
    "\n",
    "    # If no solution is found, return an empty list or raise an exception\n",
    "    return []\n",
    "\n",
    "# Example usage:\n",
    "nums = [2, 7, 11, 15]\n",
    "target = 9\n",
    "result = twoSum(nums, target)\n",
    "print(result)\n"
   ]
  },
  {
   "cell_type": "markdown",
   "id": "9a48899f-b98a-4119-8014-afa879c65f57",
   "metadata": {},
   "source": [
    "The code maintains two pointers: i and j. The pointer i is responsible for storing the index of the next non-val element, and the pointer j iterates through the array. Whenever the current element (nums[j]) is not equal to val, it is assigned to the next non-val position in the array (nums[i]), and both i and count are incremented. By the end of the iteration, the nums array will contain only the elements that are not equal to val, and count will represent the number of such elements.\n",
    "\n",
    "The solution has a time complexity of O(n), where n is the length of the input array nums."
   ]
  },
  {
   "cell_type": "markdown",
   "id": "c1d1b442-d0bd-43fa-a991-310585ee3b5d",
   "metadata": {},
   "source": [
    "<aside>\n",
    "💡 **Q3.** Given a sorted array of distinct integers and a target value, return the index if the target is found. If not, return the index where it would be if it were inserted in order.\n",
    "\n",
    "You must write an algorithm with O(log n) runtime complexity.\n",
    "\n",
    "**Example 1:**\n",
    "Input: nums = [1,3,5,6], target = 5\n",
    "\n",
    "Output: 2\n",
    "\n",
    "</aside>"
   ]
  },
  {
   "cell_type": "markdown",
   "id": "0f2fab03-3800-4bf7-9ad9-65f0a5517787",
   "metadata": {},
   "source": [
    "To solve the given problem with a runtime complexity of O(log n), you can use a binary search algorithm to find the target value or determine the index where it would be inserted. Here's the Python code to implement this:"
   ]
  },
  {
   "cell_type": "code",
   "execution_count": 4,
   "id": "1811f6fa-48c9-4923-bf2c-6bdddaf12183",
   "metadata": {},
   "outputs": [
    {
     "name": "stdout",
     "output_type": "stream",
     "text": [
      "2\n"
     ]
    }
   ],
   "source": [
    "def searchInsert(nums, target):\n",
    "    left, right = 0, len(nums) - 1\n",
    "\n",
    "    while left <= right:\n",
    "        mid = left + (right - left) // 2\n",
    "        if nums[mid] == target:\n",
    "            return mid\n",
    "        elif nums[mid] < target:\n",
    "            left = mid + 1\n",
    "        else:\n",
    "            right = mid - 1\n",
    "\n",
    "    # If the target is not found, return the index where it would be inserted\n",
    "    return left\n",
    "\n",
    "# Example usage:\n",
    "nums = [1, 3, 5, 6]\n",
    "target = 5\n",
    "index = searchInsert(nums, target)\n",
    "print(index)\n"
   ]
  },
  {
   "cell_type": "markdown",
   "id": "b22de213-e674-4786-8387-f1239993cbaf",
   "metadata": {},
   "source": [
    "The code performs a binary search on the sorted array nums. It initializes the left and right pointers to the start and end of the array. In each iteration, it calculates the mid index and compares the value at that index with the target value. If they are equal, it returns the mid index. If the value at mid is less than the target, the left pointer is updated to mid + 1 to search the right half of the array. Otherwise, if the value at mid is greater than the target, the right pointer is updated to mid - 1 to search the left half of the array. The binary search continues until left becomes greater than right, indicating that the target is not found in the array. In that case, the left index represents the index where the target would be inserted.\n",
    "\n",
    "The solution achieves a runtime complexity of O(log n), as the array is halved in each iteration of the binary search.\n",
    "\n",
    "\n",
    "\n",
    "\n",
    "\n",
    "\n"
   ]
  },
  {
   "cell_type": "markdown",
   "id": "3b5c28d0-8c65-4b41-8e52-57f47285d77b",
   "metadata": {},
   "source": [
    "<aside>\n",
    "💡 **Q4.** You are given a large integer represented as an integer array digits, where each digits[i] is the ith digit of the integer. The digits are ordered from most significant to least significant in left-to-right order. The large integer does not contain any leading 0's.\n",
    "\n",
    "Increment the large integer by one and return the resulting array of digits.\n",
    "\n",
    "**Example 1:**\n",
    "Input: digits = [1,2,3]\n",
    "Output: [1,2,4]\n",
    "\n",
    "**Explanation:** The array represents the integer 123.\n",
    "\n",
    "Incrementing by one gives 123 + 1 = 124.\n",
    "Thus, the result should be [1,2,4].\n",
    "\n",
    "</aside>"
   ]
  },
  {
   "cell_type": "markdown",
   "id": "3f0be14c-62ec-4f19-a863-9601d7c00721",
   "metadata": {},
   "source": [
    "To solve the given problem, you can perform the increment operation directly on the digits array. Start from the least significant digit and increment it by one, propagating any carry to the next digit if necessary. "
   ]
  },
  {
   "cell_type": "code",
   "execution_count": 5,
   "id": "cb92ebc8-ee4a-4b04-9737-95eff82cacaf",
   "metadata": {},
   "outputs": [
    {
     "name": "stdout",
     "output_type": "stream",
     "text": [
      "[1, 2, 4]\n"
     ]
    }
   ],
   "source": [
    "def plusOne(digits):\n",
    "    n = len(digits)\n",
    "    # Iterate through the digits array from right to left\n",
    "    for i in range(n - 1, -1, -1):\n",
    "        if digits[i] < 9:\n",
    "            # If the digit is less than 9, increment it and return the updated array\n",
    "            digits[i] += 1\n",
    "            return digits\n",
    "        else:\n",
    "            # If the digit is 9, set it to 0 and propagate the carry to the next digit\n",
    "            digits[i] = 0\n",
    "\n",
    "    # If all digits are 9, add an additional digit 1 at the beginning\n",
    "    return [1] + digits\n",
    "\n",
    "# Example usage:\n",
    "digits = [1, 2, 3]\n",
    "result = plusOne(digits)\n",
    "print(result)\n"
   ]
  },
  {
   "cell_type": "markdown",
   "id": "bc57f35d-ab67-487d-a8b0-c0707f39c52a",
   "metadata": {},
   "source": [
    "The code starts from the least significant digit (rightmost) of the digits array and checks if it is less than 9. If it is, the digit is incremented by one, and the updated array is returned. If the digit is 9, it is set to 0, indicating a carry, and the loop proceeds to the next digit to the left. This process continues until a digit is found that is less than 9 or until all digits are set to 0. If all digits are 9, an additional digit 1 is added at the beginning of the array to accommodate the carry.\n",
    "\n",
    "The solution handles the increment operation in place, without converting the digits array to an integer. It has a time complexity of O(n), where n is the length of the digits array."
   ]
  },
  {
   "cell_type": "markdown",
   "id": "8d64d496-a85b-47ca-b370-9bb20f79c990",
   "metadata": {},
   "source": [
    "We can use the two-pointer technique to merge the two sorted arrays in-place. Starting from the end of the merged array (nums1), compare the elements from nums1 and nums2 and place the larger element at the end of nums1. "
   ]
  },
  {
   "cell_type": "code",
   "execution_count": 6,
   "id": "2af6052e-5010-443a-a5ad-cc6a4445d37d",
   "metadata": {},
   "outputs": [
    {
     "name": "stdout",
     "output_type": "stream",
     "text": [
      "[1, 2, 2, 3, 5, 6]\n"
     ]
    }
   ],
   "source": [
    "def merge(nums1, m, nums2, n):\n",
    "    # Initialize pointers for nums1, nums2, and the merged array\n",
    "    p1, p2, p = m - 1, n - 1, m + n - 1\n",
    "\n",
    "    # Merge the arrays from the end\n",
    "    while p1 >= 0 and p2 >= 0:\n",
    "        if nums1[p1] >= nums2[p2]:\n",
    "            nums1[p] = nums1[p1]\n",
    "            p1 -= 1\n",
    "        else:\n",
    "            nums1[p] = nums2[p2]\n",
    "            p2 -= 1\n",
    "        p -= 1\n",
    "\n",
    "    # Copy any remaining elements from nums2 to nums1\n",
    "    nums1[:p2 + 1] = nums2[:p2 + 1]\n",
    "\n",
    "# Example usage:\n",
    "nums1 = [1, 2, 3, 0, 0, 0]\n",
    "m = 3\n",
    "nums2 = [2, 5, 6]\n",
    "n = 3\n",
    "\n",
    "merge(nums1, m, nums2, n)\n",
    "print(nums1)\n"
   ]
  },
  {
   "cell_type": "markdown",
   "id": "3255fc93-8a60-4b8b-878b-a95e7da5d191",
   "metadata": {},
   "source": [
    "The code initializes three pointers: p1, p2, and p. p1 and p2 are initially set to the end indices of the respective arrays, while p is set to the end index of the merged array. The merging process starts from the end and compares the elements at p1 and p2. The larger element is placed at nums1[p], and the corresponding pointer is decremented. The p pointer is also decremented. This process continues until either p1 or p2 reaches the beginning of their respective arrays.\n",
    "\n",
    "After the main merging is complete, if there are any remaining elements in nums2, they are copied to the beginning of nums1 using slicing.\n",
    "\n",
    "\n",
    "The solution merges the two arrays in-place without using any extra space and has a time complexity of O(m + n), where m and n are the lengths of nums1 and nums2, respectively."
   ]
  },
  {
   "cell_type": "markdown",
   "id": "ba4ff9d1-23fe-4123-8065-6cefb65259d2",
   "metadata": {},
   "source": [
    "<aside>\n",
    "💡 **Q6.** Given an integer array nums, return true if any value appears at least twice in the array, and return false if every element is distinct.\n",
    "\n",
    "**Example 1:**\n",
    "Input: nums = [1,2,3,1]\n",
    "\n",
    "Output: true\n",
    "\n",
    "</aside>"
   ]
  },
  {
   "cell_type": "markdown",
   "id": "44a4933e-a26b-4733-835d-76d0dda189a8",
   "metadata": {},
   "source": [
    "To solve the given problem, We can use a set to keep track of the unique values encountered while iterating through the array. If a value is already present in the set, it means that the value has appeared at least twice in the array, and you can return True. If the iteration completes without finding any duplicates, you can return False. "
   ]
  },
  {
   "cell_type": "code",
   "execution_count": 7,
   "id": "7159259b-53bb-4abc-8694-84e068310416",
   "metadata": {},
   "outputs": [
    {
     "name": "stdout",
     "output_type": "stream",
     "text": [
      "True\n"
     ]
    }
   ],
   "source": [
    "def containsDuplicate(nums):\n",
    "    num_set = set()\n",
    "\n",
    "    for num in nums:\n",
    "        if num in num_set:\n",
    "            return True\n",
    "        num_set.add(num)\n",
    "\n",
    "    return False\n",
    "\n",
    "# Example usage:\n",
    "nums = [1, 2, 3, 1]\n",
    "result = containsDuplicate(nums)\n",
    "print(result)\n"
   ]
  },
  {
   "cell_type": "markdown",
   "id": "af493bb3-1f5e-4b75-8a93-7538cf5e8e02",
   "metadata": {},
   "source": [
    "The code iterates through the nums array and checks if each element is already present in the num_set set. If it is, indicating a duplicate, the function returns True. Otherwise, the element is added to the set. If the iteration completes without finding any duplicates, the function returns False.\n",
    "\n",
    "By utilizing the set data structure, the solution has a time complexity of O(n), where n is the length of the input array nums. The set provides constant-time average-case membership testing, which allows efficient duplicate detection."
   ]
  },
  {
   "cell_type": "markdown",
   "id": "fd1b076b-31ee-4950-8df2-a05c86df0e5a",
   "metadata": {},
   "source": [
    "<aside>\n",
    "💡 **Q7.** Given an integer array nums, move all 0's to the end of it while maintaining the relative order of the nonzero elements.\n",
    "\n",
    "Note that you must do this in-place without making a copy of the array.\n",
    "\n",
    "**Example 1:**\n",
    "Input: nums = [0,1,0,3,12]\n",
    "Output: [1,3,12,0,0]\n",
    "\n",
    "</aside>"
   ]
  },
  {
   "cell_type": "markdown",
   "id": "b65d0cc1-e05a-49e3-b2fc-526c51ff7890",
   "metadata": {},
   "source": [
    "To solve the given problem, we can use the two-pointer technique to move all the zeros to the end of the array while maintaining the relative order of the non-zero elements. One pointer will iterate through the array and find non-zero elements, while the other pointer will keep track of the next position to place a non-zero element. "
   ]
  },
  {
   "cell_type": "code",
   "execution_count": 8,
   "id": "d2e19d6b-c4de-40e9-8b25-85a7933999c5",
   "metadata": {},
   "outputs": [
    {
     "name": "stdout",
     "output_type": "stream",
     "text": [
      "[1, 3, 12, 0, 0]\n"
     ]
    }
   ],
   "source": [
    "def moveZeroes(nums):\n",
    "    # Initialize a pointer for the next position to place a non-zero element\n",
    "    next_pos = 0\n",
    "\n",
    "    # Iterate through the array\n",
    "    for num in nums:\n",
    "        if num != 0:\n",
    "            # If the current element is non-zero, move it to the next position\n",
    "            nums[next_pos] = num\n",
    "            next_pos += 1\n",
    "\n",
    "    # Fill the remaining positions with zeros\n",
    "    nums[next_pos:] = [0] * (len(nums) - next_pos)\n",
    "\n",
    "# Example usage:\n",
    "nums = [0, 1, 0, 3, 12]\n",
    "moveZeroes(nums)\n",
    "print(nums)\n"
   ]
  },
  {
   "cell_type": "markdown",
   "id": "a18699a5-9d34-4e49-b889-8a0974a0853b",
   "metadata": {},
   "source": [
    "The code initializes a next_pos pointer to keep track of the next position to place a non-zero element. As it iterates through the nums array, whenever it encounters a non-zero element, it moves the element to nums[next_pos] and increments next_pos by 1. After the iteration, any remaining positions in nums are filled with zeros using slicing.\n",
    "\n",
    "By using the two-pointer technique, the solution achieves the desired result in-place without making a copy of the array. It has a time complexity of O(n), where n is the length of the input array nums.\n",
    "\n",
    "\n",
    "\n",
    "\n",
    "\n",
    "\n"
   ]
  },
  {
   "cell_type": "markdown",
   "id": "b45157b5-4f8f-4322-93b0-63e1111a3578",
   "metadata": {},
   "source": [
    "<aside>\n",
    "💡 **Q8.** You have a set of integers s, which originally contains all the numbers from 1 to n. Unfortunately, due to some error, one of the numbers in s got duplicated to another number in the set, which results in repetition of one number and loss of another number.\n",
    "\n",
    "You are given an integer array nums representing the data status of this set after the error.\n",
    "\n",
    "Find the number that occurs twice and the number that is missing and return them in the form of an array.\n",
    "\n",
    "**Example 1:**\n",
    "Input: nums = [1,2,2,4]\n",
    "Output: [2,3]\n",
    "\n",
    "</aside>"
   ]
  },
  {
   "cell_type": "markdown",
   "id": "c56bccd7-f01b-4f02-9577-99143810bcfb",
   "metadata": {},
   "source": [
    "To solve the given problem, We can utilize the properties of sets to find the duplicated number and the missing number. By comparing the set of unique elements in nums with the set of all numbers from 1 to n, you can identify the missing number. Then, by calculating the difference between the sum of nums and the sum of the unique elements, you can determine the duplicated number."
   ]
  },
  {
   "cell_type": "code",
   "execution_count": 10,
   "id": "9ac065c3-72db-40b9-9cdb-7ed71ea103a3",
   "metadata": {},
   "outputs": [
    {
     "name": "stdout",
     "output_type": "stream",
     "text": [
      "[2, 3]\n"
     ]
    }
   ],
   "source": [
    "def findErrorNums(nums):\n",
    "    n = len(nums)\n",
    "    num_set = set(nums)\n",
    "\n",
    "    missing_num = sum(range(1, n + 1)) - sum(num_set)\n",
    "    duplicated_num = sum(nums) - sum(num_set)\n",
    "\n",
    "    return [duplicated_num, missing_num]\n",
    "\n",
    "# Example usage:\n",
    "nums = [1, 2, 2, 4]\n",
    "result = findErrorNums(nums)\n",
    "print(result)\n"
   ]
  },
  {
   "cell_type": "markdown",
   "id": "d7596c90-b1a1-4cd9-8b54-df9ddacc5e22",
   "metadata": {},
   "source": [
    "The code initializes the length of the input array as n and creates a set (num_set) containing the unique elements of nums. The missing number can be calculated by finding the difference between the sum of all numbers from 1 to n and the sum of the unique elements in nums. Similarly, the duplicated number can be obtained by finding the difference between the sum of all elements in nums and the sum of the unique elements in nums.\n",
    "\n",
    "By leveraging sets and basic arithmetic operations, the solution determines the duplicated number and the missing number in the given array. It has a time complexity of O(n), where n is the length of the input array nums."
   ]
  },
  {
   "cell_type": "code",
   "execution_count": null,
   "id": "fc38dfbf-7eb6-4134-b84a-4415d18d7679",
   "metadata": {},
   "outputs": [],
   "source": []
  }
 ],
 "metadata": {
  "kernelspec": {
   "display_name": "Python 3 (ipykernel)",
   "language": "python",
   "name": "python3"
  },
  "language_info": {
   "codemirror_mode": {
    "name": "ipython",
    "version": 3
   },
   "file_extension": ".py",
   "mimetype": "text/x-python",
   "name": "python",
   "nbconvert_exporter": "python",
   "pygments_lexer": "ipython3",
   "version": "3.10.8"
  }
 },
 "nbformat": 4,
 "nbformat_minor": 5
}
